{
 "cells": [
  {
   "cell_type": "markdown",
   "metadata": {},
   "source": [
    "Given a fixed real number $c$, define a random sequence $(X_n)_n \\geq 0$\n",
    "by the following random process:\n",
    "$$\n",
    "    X_0=c\n",
    "$$\n",
    "(with probability 1).\n",
    "\n",
    "For n>0\n",
    ", $X_n=U_n X_n −1$ where $U_n$ is a real number chosen at random between zero and one, uniformly, and independently of all previous choices $(U_m)_m < n$\n",
    "\n",
    "\n",
    "If we desire there to be precisely a $25\\%$ probability that $X100 < 1$\n",
    "* then this can be arranged by fixing c such that log10c≈46.27\n",
    "\n",
    "\n",
    "Suppose now that c\n",
    "is set to a different value, so that there is precisely a 25% probability that $X_{10000000} < 1$\n",
    "\n",
    "\n",
    "Find $log_{10} c$\n",
    "and give your answer rounded to two places after the decimal point.\n",
    "\n",
    "https://projecteuler.net/problem=697\n"
   ]
  },
  {
   "cell_type": "markdown",
   "metadata": {},
   "source": [
    "$\\textbf{Solution:}$\n",
    "For the probability distribution \n",
    "\n",
    "$$ X \\sim \\mathcal{U} ([0,1]) $$\n",
    "\\\n",
    "We want to find $c$ such that $\\mathbb{P} (c \\cdot X^{n-1} < 1) = \\frac{1}{4}$.\n",
    "\n",
    "First we want to find the expected value and varience of the continuous probability distribution.\n",
    "Solve for $c$ in $\\mathbb{P} (c \\cdot X^{n-1} < 1) = \\frac{1}{4}$ through the gaussian distribution.\n",
    "\n",
    "We may calculate the expected value of $X^n$ form the moment generating function of $X$ and extract c by linearity.\n",
    "\n",
    "$$ \\mathbb{E} (cX^n) = c \\cdot \\mathbb{E} (X^n) = c \\cdot M_x^{(n)} (0) $$\n",
    "\n",
    "and varience\n",
    "$$\\text{Var}(X) = \\mathbb{E}(c^2 X^{2n}) - \\mathbb{E}(c X^n)^2 = c^2 \\cdot \\mathbb{E}( X^{2n}) - c \\cdot \\mathbb{E}( X^n)^2 $$\n",
    "  "
   ]
  },
  {
   "cell_type": "code",
   "execution_count": 2,
   "metadata": {},
   "outputs": [],
   "source": [
    "import scipy.stats as st\n",
    "import numpy as np"
   ]
  },
  {
   "cell_type": "code",
   "execution_count": 3,
   "metadata": {},
   "outputs": [
    {
     "name": "stdout",
     "output_type": "stream",
     "text": [
      "expected value =  3.2049744090956645e-32\n",
      "varience =  4.99999250001125e-07\n",
      "standard deviation =  0.0007071062508570582\n"
     ]
    }
   ],
   "source": [
    "x = np.linspace(0,1)\n",
    "\n",
    "ex = st.moment(x, 100)\n",
    "var = 1/ 2000003 - ex**2\n",
    "sd = np.sqrt(var)\n",
    "\n",
    "print('expected value = ', ex)\n",
    "print('varience = ', var)\n",
    "print('standard deviation = ', sd)\n",
    "\n",
    "# calculate c"
   ]
  }
 ],
 "metadata": {
  "kernelspec": {
   "display_name": "Python 3",
   "language": "python",
   "name": "python3"
  },
  "language_info": {
   "codemirror_mode": {
    "name": "ipython",
    "version": 3
   },
   "file_extension": ".py",
   "mimetype": "text/x-python",
   "name": "python",
   "nbconvert_exporter": "python",
   "pygments_lexer": "ipython3",
   "version": "3.7.6"
  }
 },
 "nbformat": 4,
 "nbformat_minor": 4
}
